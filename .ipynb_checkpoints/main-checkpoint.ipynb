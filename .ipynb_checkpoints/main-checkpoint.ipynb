{
 "cells": [
  {
   "cell_type": "markdown",
   "id": "39150ede-61b3-4b78-9fae-1dfc36cbec75",
   "metadata": {},
   "source": [
    "Lab 1: Analisis del Data Set Loneliness and Social Connections \n",
    "\n",
    "1. (5%) Descargue la siguiente base de datos en su carpeta de trabajo:\n",
    "hWps://www.kaggle.com/datasets/arashnic/loneliness-and-social-connections. En Kaggle. Utilice la biblioteca Pandas para cargar la base de datos “oneperson-households-vs-gdp-per-capita.csv” en un data frame. Realice los imports\n",
    "necesarios."
   ]
  },
  {
   "cell_type": "code",
   "execution_count": null,
   "id": "2cd275ad-c64b-4c4e-a483-6809add4da13",
   "metadata": {},
   "outputs": [],
   "source": [
    "import pandas as pd\n",
    "\n",
    "# Usa una de las opciones anteriores para la ruta del archivo\n",
    "file_path = r'C:\\Users\\sandr\\Documents\\UCR\\lab1\\archive\\one-person-households-vs-gdp-per-capita.csv'\n",
    "\n",
    "# Cargar el archivo CSV en un DataFrame\n",
    "df = pd.read_csv(file_path)\n",
    "\n",
    "# Ver las primeras filas del DataFrame para confirmar que se cargó correctamente\n",
    "print(df.head())\n"
   ]
  },
  {
   "cell_type": "markdown",
   "id": "092fc1b1",
   "metadata": {},
   "source": [
    "2. (10%) Explique en un comentario al inicio de su notebook qué consiste esta base de\n",
    "datos, detallando las variables que tiene y 3 preguntas que se podrían investigar con esta\n",
    "base de datos.\n",
    "\n"
   ]
  },
  {
   "cell_type": "markdown",
   "id": "197c68c9",
   "metadata": {},
   "source": [
    "3. (5%) Imprima 3 filas de este data frame (por ejemplo, la posiciones 4, 19 y 95 de la base\n",
    "de datos)"
   ]
  },
  {
   "cell_type": "code",
   "execution_count": null,
   "id": "3877e3fc",
   "metadata": {},
   "outputs": [],
   "source": [
    "# Imprimir las filas en las posiciones 4, 19 y 95\n",
    "rows_to_print = [4, 19, 95]\n",
    "selected_rows = df.iloc[rows_to_print]\n",
    "\n",
    "# Mostrar las filas seleccionadas\n",
    "print(selected_rows)"
   ]
  },
  {
   "cell_type": "code",
   "execution_count": null,
   "id": "f3154468",
   "metadata": {},
   "outputs": [],
   "source": [
    "# Imprimir todas las columnas\n",
    "column_names = df.columns\n",
    "print(\"Nombres de las columnas:\")\n",
    "print(column_names)"
   ]
  },
  {
   "cell_type": "markdown",
   "id": "9354e637",
   "metadata": {},
   "source": [
    "5. a. (5%) Modifique el nombre de las columnas correspondientes al GDP por persona y la\n",
    "proporción de hogares con una sola persona. Coloque los siguientes nombres: \"GDP per\n",
    "capita\" y “Share 1p household”. Imprima para verificar que las columnas fueron\n",
    "modificadas sa5sfactoriamente."
   ]
  },
  {
   "cell_type": "code",
   "execution_count": null,
   "id": "4c8a087c",
   "metadata": {},
   "outputs": [],
   "source": [
    "# Mostrar los nombres de las columnas actuales\n",
    "print(\"Nombres originales de las columnas:\")\n",
    "print(df.columns)\n",
    "\n",
    "# Cambiar los nombres de las columnas específicas\n",
    "df.rename(columns={\n",
    "    'GDP per capita, PPP (constant 2011 international $)': 'GDP per capita',\n",
    "    'Share of one person households': 'Share 1p household'\n",
    "}, inplace=True)\n",
    "\n",
    "# Verificar que los nombres se cambiaron correctamente\n",
    "print(\"\\nNombres de las columnas después de la modificación:\")\n",
    "print(df.columns)"
   ]
  },
  {
   "cell_type": "markdown",
   "id": "12db81cf",
   "metadata": {},
   "source": [
    "b. (5%) Imprima el número de filas y columnas de la base de datos e imprima una muestra\n",
    "de la base de datos usando el comando head(100)."
   ]
  },
  {
   "cell_type": "code",
   "execution_count": null,
   "id": "557cd232",
   "metadata": {},
   "outputs": [],
   "source": [
    "# Obtener el número de filas y columnas\n",
    "num_filas, num_columnas = df.shape\n",
    "print(f\"Número de filas: {num_filas}\")\n",
    "print(f\"Número de columnas: {num_columnas}\")\n",
    "\n",
    "# Imprimir una muestra de las primeras 100 filas de la base de datos\n",
    "print(\"\\nMuestra de las primeras 100 filas de la base de datos:\")\n",
    "print(df.head(100))"
   ]
  },
  {
   "cell_type": "markdown",
   "id": "fbae4756",
   "metadata": {},
   "source": [
    "6. (10%) Seleccione los datos que correspondan a años más recientes que 2015. Además,\n",
    "seleccione los datos que únicamente tengan datos no nulos en las columnas \"GDP per\n",
    "capita\" y “Share 1p household”. Imprima una muestra de la base de datos. "
   ]
  },
  {
   "cell_type": "code",
   "execution_count": null,
   "id": "0db0c1ad",
   "metadata": {},
   "outputs": [],
   "source": [
    "# Filtrar los datos para años más recientes que 2015\n",
    "df_filtered = df[df['Year'] > 2015]\n",
    "\n",
    "# Seleccionar filas que no tengan valores nulos en \"GDP per capita\" y \"Share 1p household\"\n",
    "df_filtered = df_filtered.dropna(subset=['GDP per capita', 'Share 1p household'])\n",
    "\n",
    "# Imprimir una muestra de los datos filtrados\n",
    "print(\"\\nMuestra de los datos filtrados:\")\n",
    "print(df_filtered.head(100))"
   ]
  },
  {
   "cell_type": "markdown",
   "id": "21417029",
   "metadata": {},
   "source": [
    "7. (15%) Se tienen algunos países que aparecen varias veces en la muestra, con los años en\n",
    "desorden (a veces sale primero el año menor y a veces el año mayor). Para los países que\n",
    "aparecen varias veces, elimine las filas repetidas, correspondientes a los años más viejos.\n",
    "Por ejemplo, si Suecia aparece con 2016 y 2015, procure eliminar el 2015. Imprima una\n",
    "muestra de la base de datos y la can5dad de filas. Debería tener 43 filas."
   ]
  },
  {
   "cell_type": "code",
   "execution_count": null,
   "id": "c609ef31",
   "metadata": {},
   "outputs": [],
   "source": [
    "# Ordenar el DataFrame por país ('Entity') y año ('Year') en orden descendente\n",
    "df_filtered_sorted = df_filtered.sort_values(by=['Entity', 'Year'], ascending=[True, False])\n",
    "\n",
    "# Eliminar duplicados, manteniendo solo la fila más reciente para cada país\n",
    "df_unique = df_filtered_sorted.drop_duplicates(subset=['Entity'], keep='first')\n",
    "\n",
    "# Imprimir la cantidad de filas y una muestra del DataFrame resultante\n",
    "num_filas = len(df_unique)\n",
    "print(f\"\\nCantidad de filas después de eliminar duplicados: {num_filas}\")\n",
    "print(\"\\nMuestra de la base de datos final:\")\n",
    "print(df_unique.head(100))  # Se espera que sean 43 filas en total, pero mostramos solo una muestra"
   ]
  },
  {
   "cell_type": "markdown",
   "id": "2e0a4a99",
   "metadata": {},
   "source": [
    "8. (10%) Obtenga la media y desviación estándar de la variable “Total population” para los\n",
    "datos más recientes. Asegúrese que solo está incluyendo los años más recientes. "
   ]
  },
  {
   "cell_type": "code",
   "execution_count": null,
   "id": "a1c35607",
   "metadata": {},
   "outputs": [],
   "source": [
    "latest_year = df['Year'].max()\n",
    "filtered_df = df[df['Year'] == latest_year]\n",
    "\n",
    "# Calcula la media y desviación estándar de 'Total population'\n",
    "mean_population = filtered_df['Total population (Gapminder, HYDE & UN)'].mean()\n",
    "std_population = filtered_df['Total population (Gapminder, HYDE & UN)'].std()\n",
    "\n",
    "print(f\"Media de 'Total population' para los datos más recientes: {mean_population}\")\n",
    "print(f\"Desviación estándar de 'Total population' para los datos más recientes: {std_population}\")"
   ]
  },
  {
   "cell_type": "markdown",
   "id": "0fa33add",
   "metadata": {},
   "source": [
    "9. (5%) Grafique los datos correspondientes a “Share 1p household” y \"GDP per capita\",\n",
    "como ejes x y y, respectivamente. Para ello, procure ordenar la base de datos con valores\n",
    "de menor a mayor respecto a la variable “Share 1p household”. Añada etiquetas para los\n",
    "ejes y un titulo significativo. \n"
   ]
  },
  {
   "cell_type": "code",
   "execution_count": null,
   "id": "39f5daf6",
   "metadata": {},
   "outputs": [],
   "source": [
    "import matplotlib.pyplot as plt\n",
    "\n",
    "# Ordena el DataFrame por 'Share 1p household'\n",
    "df_sorted = df.sort_values(by='Share 1p household')\n",
    "\n",
    "# Crea la gráfica\n",
    "plt.figure(figsize=(10, 6))\n",
    "plt.plot(df_sorted['Share 1p household'], df_sorted['GDP per capita'], marker='o', linestyle='-', color='b')\n",
    "plt.xlabel('Share 1p household')\n",
    "plt.ylabel('GDP per capita')\n",
    "plt.title('Relación entre Share 1p Household y GDP per Capita')\n",
    "plt.grid(True)\n",
    "plt.show()"
   ]
  },
  {
   "cell_type": "markdown",
   "id": "5f8ab80e",
   "metadata": {},
   "source": [
    "10. (10%) Calcule e imprima el índice de correlación entre las variables “Share 1p\n",
    "household” y \"GDP per capita\" utilizando las bibliotecas más relevantes. Responda como\n",
    "comentario en el notebook si cree que es una correlación fuerte (investigue para\n",
    "interpretar los números). ¿Cómo interpretaría usted este valor?"
   ]
  },
  {
   "cell_type": "code",
   "execution_count": null,
   "id": "adb864ed",
   "metadata": {},
   "outputs": [],
   "source": [
    "# Calcula el índice de correlación entre 'Share 1p household' y 'GDP per capita'\n",
    "correlation = df['Share 1p household'].corr(df['GDP per capita'])\n",
    "\n",
    "# Imprime el valor de correlación\n",
    "print(f\"Índice de correlación entre 'Share 1p household' y 'GDP per capita': {correlation}\")"
   ]
  },
  {
   "cell_type": "markdown",
   "id": "fb114a47",
   "metadata": {},
   "source": [
    "**Índice de Correlación:**\n",
    "\n",
    "El índice de correlación entre \"Share 1p household\" y \"GDP per capita\" es de `[valor]`.\n",
    "\n",
    "**Interpretación:**\n",
    "\n",
    "Un valor cercano a 1 o -1 indica una correlación fuerte entre las dos variables. Por ejemplo, un índice de correlación de 0.8 sugiere una correlación fuerte y positiva, lo que significa que a medida que \"Share 1p household\" aumenta, también tiende a aumentar el \"GDP per capita\", y viceversa.\n",
    "\n",
    "En cambio, un valor cercano a 0 sugiere una relación débil o nula entre las variables. La interpretación específica depende del valor obtenido, y puede revelar la intensidad y dirección de la relación entre las dos variables en el contexto de tu análisis.\n",
    "\n",
    "Es importante considerar que la correlación no implica causalidad, por lo que una correlación alta no necesariamente indica que una variable cause cambios en la otra.\n"
   ]
  },
  {
   "cell_type": "markdown",
   "id": "827da4ec",
   "metadata": {},
   "source": [
    "11. a. (10%) Hay algunos países que se comportan de manera excepcional. Para mejorar el\n",
    "análisis de datos, a veces es importante eliminar los casos excepcionales (outliers). Elimine\n",
    "los países que tengan un GDP per cápita mayor a $70,000 anuales y vuelva a graficar.\n",
    "¿Aprecia las diferencias en la gráfica?"
   ]
  },
  {
   "cell_type": "code",
   "execution_count": null,
   "id": "46d0e575",
   "metadata": {},
   "outputs": [],
   "source": [
    "# Filtra los datos para eliminar los países con GDP per capita mayor a $70,000\n",
    "df_filtered = df[df['GDP per capita'] <= 70000]\n",
    "\n",
    "# Ordena el DataFrame por 'Share 1p household'\n",
    "df_sorted_filtered = df_filtered.sort_values(by='Share 1p household')"
   ]
  },
  {
   "cell_type": "code",
   "execution_count": null,
   "id": "f5e3460c",
   "metadata": {},
   "outputs": [],
   "source": [
    "plt.figure(figsize=(10, 6))\n",
    "plt.plot(df_sorted_filtered['Share 1p household'], df_sorted_filtered['GDP per capita'], marker='o', linestyle='-', color='b')\n",
    "plt.xlabel('Share 1p household')\n",
    "plt.ylabel('GDP per capita')\n",
    "plt.title('Relación entre Share 1p Household y GDP per Capita (sin outliers)')\n",
    "plt.grid(True)\n",
    "plt.show()\n"
   ]
  },
  {
   "cell_type": "markdown",
   "id": "7e4ce6af",
   "metadata": {},
   "source": [
    "**Análisis de Datos con Outliers Eliminados:**\n",
    "\n",
    "Después de eliminar los países con un `GDP per capita` mayor a $70,000, hemos graficado los datos restantes.\n",
    "\n",
    "**Observaciones:**\n",
    "\n",
    "Al eliminar los outliers, la gráfica puede mostrar una tendencia más clara o diferente en la relación entre \"Share 1p household\" y \"GDP per capita\". La eliminación de estos valores extremos puede ayudar a identificar patrones subyacentes que podrían haber sido distorsionados por los casos excepcionales. Observa cómo cambia la dispersión de los puntos y si la relación entre las dos variables se vuelve más evidente o diferente.\n",
    "\n",
    "Es importante considerar el impacto de los outliers en el análisis y decidir si su eliminación es adecuada en el contexto de tu investigación.\n"
   ]
  },
  {
   "cell_type": "markdown",
   "id": "3e80b026",
   "metadata": {},
   "source": [
    "b. (5%) Vuelva a calcular la correlación entre las variables. Responda: ¿qué ocurrió con la\n",
    "correlación?"
   ]
  },
  {
   "cell_type": "code",
   "execution_count": null,
   "id": "5b2e3f5a",
   "metadata": {},
   "outputs": [],
   "source": [
    "# Calcula el índice de correlación entre 'Share 1p household' y 'GDP per capita' para los datos filtrados\n",
    "correlation_filtered = df_filtered['Share 1p household'].corr(df_filtered['GDP per capita'])\n",
    "\n",
    "# Imprime el valor de correlación\n",
    "print(f\"Índice de correlación entre 'Share 1p household' y 'GDP per capita' (sin outliers): {correlation_filtered}\")"
   ]
  },
  {
   "cell_type": "markdown",
   "id": "73848c9c",
   "metadata": {},
   "source": [
    "**Índice de Correlación después de Eliminar Outliers:**\n",
    "\n",
    "Después de eliminar los países con un `GDP per capita` mayor a $70,000, el índice de correlación entre \"Share 1p household\" y \"GDP per capita\" es de `[valor]`.\n",
    "\n",
    "**Observaciones:**\n",
    "\n",
    "La comparación del índice de correlación antes y después de eliminar los outliers revela lo siguiente:\n",
    "- **Si la correlación ha aumentado**: Esto sugiere que los outliers estaban afectando la relación entre las variables y su eliminación ha permitido observar una correlación más fuerte.\n",
    "- **Si la correlación ha disminuido**: Esto indica que los outliers estaban contribuyendo a una correlación aparente más alta, y su eliminación ha mostrado una relación menos fuerte entre las variables.\n",
    "- **Si la correlación se mantuvo estable**: Esto sugiere que la relación entre las variables es consistente incluso en presencia de valores extremos.\n",
    "\n",
    "La interpretación del cambio en la correlación ayuda a entender mejor cómo los datos atípicos pueden influir en el análisis y proporciona una visión más precisa de la relación subyacente entre las variables.\n"
   ]
  }
 ],
 "metadata": {
  "kernelspec": {
   "display_name": "Python 3.12.5 64-bit (microsoft store)",
   "language": "python",
   "name": "python3"
  },
  "language_info": {
   "codemirror_mode": {
    "name": "ipython",
    "version": 3
   },
   "file_extension": ".py",
   "mimetype": "text/x-python",
   "name": "python",
   "nbconvert_exporter": "python",
   "pygments_lexer": "ipython3",
   "version": "3.12.5"
  },
  "vscode": {
   "interpreter": {
    "hash": "21983093768c26efb6db2d0eb67b3c00a2c3d6cfcea9222c1df6c6c57125f897"
   }
  }
 },
 "nbformat": 4,
 "nbformat_minor": 5
}
